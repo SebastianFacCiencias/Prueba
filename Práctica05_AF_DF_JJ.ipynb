{
  "nbformat": 4,
  "nbformat_minor": 0,
  "metadata": {
    "colab": {
      "provenance": [],
      "include_colab_link": true
    },
    "kernelspec": {
      "name": "python3",
      "display_name": "Python 3"
    },
    "language_info": {
      "name": "python"
    }
  },
  "cells": [
    {
      "cell_type": "markdown",
      "metadata": {
        "id": "view-in-github",
        "colab_type": "text"
      },
      "source": [
        "<a href=\"https://colab.research.google.com/github/SebastianFacCiencias/Prueba/blob/main/Pr%C3%A1ctica05_AF_DF_JJ.ipynb\" target=\"_parent\"><img src=\"https://colab.research.google.com/assets/colab-badge.svg\" alt=\"Open In Colab\"/></a>"
      ]
    },
    {
      "cell_type": "code",
      "source": [
        "import math\n",
        "import numpy as np"
      ],
      "metadata": {
        "id": "-y2bHKcct0o2"
      },
      "execution_count": 1,
      "outputs": []
    },
    {
      "cell_type": "code",
      "execution_count": 7,
      "metadata": {
        "id": "_-yL9HIKp7ho"
      },
      "outputs": [],
      "source": [
        "class TransformacionPolar:\n",
        "  def __init__(self, x: float, y: float):\n",
        "    self._x = x\n",
        "    self._y = y\n",
        "\n",
        "  def cartapolar(self):\n",
        "    r = math.sqrt(self._x**2 + self._y**2)\n",
        "    t = math.atan(self._y/self._x)\n",
        "    return r, t\n",
        "\n",
        "  def polaracarta(self, r: float, t: float):\n",
        "    if r < 0:\n",
        "      raise ValueError(\"El radio no puede ser negativo\")\n",
        "    if t < 0:\n",
        "      raise ValueError(\"El ángulo debe ser positivo\")\n",
        "    x = r * math.cos(t)\n",
        "    y = r * math.sin(t)\n",
        "    return x, y\n",
        "\n",
        "  def conjuntodepuntos(self, teth: float, a: float, b: float):\n",
        "    r= a + (b*teth)\n",
        "    Conj= np.zeros((20, 2))\n",
        "    for i in range(20):\n",
        "      Conj[i][0] = r*math.cos(teth)\n",
        "      Conj[i][1] = r*math.sin(teth)\n",
        "    return Conj\n",
        "\n",
        "  def cartesianas_a_polares(self, puntos):\n",
        "    conjunto_polares = []\n",
        "    for punto in self.puntos:\n",
        "        x, y = punto\n",
        "        r = np.sqrt(x**2 + y**2)\n",
        "        theta = np.arctan2(y, x)\n",
        "        conjunto_polares.append((r, theta))\n",
        "    return conjunto_polares\n",
        "\n",
        "  def tabla_comp(self, puntos):\n",
        "    tabla_comp = []\n",
        "    for punto in puntos:\n",
        "      x, y = punto\n",
        "      r = np.sqrt(x**2 + y**2)\n",
        "      theta = np.arctan2(y, x)\n",
        "      tabla_comp.append((x, y, r, theta))\n",
        "    return tabla_comp\n",
        "\n",
        "    def imprimir_tabla(self, tabla_comparativa):\n",
        "      print(f\"{'x':>10} {'y':>10} {'r':>10} {'theta':>10}\")\n",
        "      print(\"-\" * 40)\n",
        "      for fila in tabla_comparativa:\n",
        "        x, y, r, theta = fila\n",
        "        print(f\"{x:>10.2f} {y:>10.2f} {r:>10.2f} {theta:>10.5f}\")"
      ]
    },
    {
      "cell_type": "code",
      "source": [
        "T = TransformacionPolar(2,3)\n",
        "\n",
        "#print(T.polaracarta(3.6055512754, 0.982793723247))\n",
        "#print(T.cartapolar())\n",
        "T.conjuntodepuntos(1.5707, 1, 2)"
      ],
      "metadata": {
        "colab": {
          "base_uri": "https://localhost:8080/"
        },
        "id": "iDmLsytFs1QW",
        "outputId": "a381e1ac-0c6d-4a4b-e54f-46a35a21db99"
      },
      "execution_count": null,
      "outputs": [
        {
          "output_type": "execute_result",
          "data": {
            "text/plain": [
              "array([[3.98927788e-04, 4.14139998e+00],\n",
              "       [3.98927788e-04, 4.14139998e+00],\n",
              "       [3.98927788e-04, 4.14139998e+00],\n",
              "       [3.98927788e-04, 4.14139998e+00],\n",
              "       [3.98927788e-04, 4.14139998e+00],\n",
              "       [3.98927788e-04, 4.14139998e+00],\n",
              "       [3.98927788e-04, 4.14139998e+00],\n",
              "       [3.98927788e-04, 4.14139998e+00],\n",
              "       [3.98927788e-04, 4.14139998e+00],\n",
              "       [3.98927788e-04, 4.14139998e+00],\n",
              "       [3.98927788e-04, 4.14139998e+00],\n",
              "       [3.98927788e-04, 4.14139998e+00],\n",
              "       [3.98927788e-04, 4.14139998e+00],\n",
              "       [3.98927788e-04, 4.14139998e+00],\n",
              "       [3.98927788e-04, 4.14139998e+00],\n",
              "       [3.98927788e-04, 4.14139998e+00],\n",
              "       [3.98927788e-04, 4.14139998e+00],\n",
              "       [3.98927788e-04, 4.14139998e+00],\n",
              "       [3.98927788e-04, 4.14139998e+00],\n",
              "       [3.98927788e-04, 4.14139998e+00]])"
            ]
          },
          "metadata": {},
          "execution_count": 37
        }
      ]
    },
    {
      "cell_type": "markdown",
      "source": [
        "**EJERCICIO 3**"
      ],
      "metadata": {
        "id": "-TPs8JkgiRQD"
      }
    },
    {
      "cell_type": "code",
      "source": [
        "class transformacionesferica:\n",
        "\n",
        "    def __init__(self):\n",
        "        pass\n",
        "\n",
        "    def cartesianas_a_esfericas(self, x, y, z):\n",
        "        r = np.sqrt(x**2 + y**2 + z**2)\n",
        "        if r <= 0:\n",
        "            raise ValueError(\"El radio r debe ser mayor que cero.\")\n",
        "\n",
        "        theta = np.arccos(z / r)\n",
        "        phi = np.arctan2(y, x)\n",
        "\n",
        "        if not (0 <= theta <= np.pi):\n",
        "            raise ValueError(\"El ángulo θ debe estar entre 0 y π.\")\n",
        "        if not (-np.pi <= phi <= np.pi):\n",
        "            raise ValueError(\"El ángulo φ debe estar entre -π y π.\")\n",
        "\n",
        "        return r, theta, phi\n",
        "\n",
        "    def esfericas_a_cartesianas(self, r, theta, phi):\n",
        "        if r <= 0:\n",
        "            raise ValueError(\"El radio r debe ser mayor que cero.\")\n",
        "        if not (0 <= theta <= np.pi):\n",
        "            raise ValueError(\"El ángulo θ debe estar entre 0 y π.\")\n",
        "        if not (-np.pi <= phi <= np.pi):\n",
        "            raise ValueError(\"El ángulo φ debe estar entre -π y π.\")\n",
        "\n",
        "        x = r * np.sin(theta) * np.cos(phi)\n",
        "        y = r * np.sin(theta) * np.sin(phi)\n",
        "        z = r * np.cos(theta)\n",
        "\n",
        "        return x, y, z\n"
      ],
      "metadata": {
        "id": "oTmRjwYBiZvC"
      },
      "execution_count": null,
      "outputs": []
    },
    {
      "cell_type": "code",
      "source": [
        "x, y, z = 1, 1, 1\n",
        "\n",
        "transform = transformacionesferica()\n",
        "\n",
        "r, theta, phi = transform.cartesianas_a_esfericas(x, y, z)\n",
        "print(f\"Coordenadas esféricas: r={r:.2f}, θ={theta:.2f}, φ={phi:.2f}\")\n",
        "\n",
        "x_cart, y_cart, z_cart = transform.esfericas_a_cartesianas(r, theta, phi)\n",
        "print(f\"Coordenadas cartesianas: x={x_cart:.2f}, y={y_cart:.2f}, z={z_cart:.2f}\")\n"
      ],
      "metadata": {
        "colab": {
          "base_uri": "https://localhost:8080/"
        },
        "id": "nYMw2fPWj-Tk",
        "outputId": "11ad6bc7-db27-4e31-d225-ed97403a1417"
      },
      "execution_count": null,
      "outputs": [
        {
          "output_type": "stream",
          "name": "stdout",
          "text": [
            "Coordenadas esféricas: r=1.73, θ=0.96, φ=0.79\n",
            "Coordenadas cartesianas: x=1.00, y=1.00, z=1.00\n"
          ]
        }
      ]
    }
  ]
}